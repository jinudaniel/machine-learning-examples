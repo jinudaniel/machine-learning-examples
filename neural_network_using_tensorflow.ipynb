{
 "cells": [
  {
   "cell_type": "code",
   "execution_count": 21,
   "metadata": {
    "collapsed": true
   },
   "outputs": [],
   "source": [
    "#Load the necessary libraries\n",
    "import tensorflow as tf\n",
    "from tensorflow.examples.tutorials.mnist import input_data\n",
    "import matplotlib.pyplot as plt\n",
    "import numpy as np"
   ]
  },
  {
   "cell_type": "code",
   "execution_count": 22,
   "metadata": {},
   "outputs": [
    {
     "name": "stdout",
     "output_type": "stream",
     "text": [
      "Extracting /tmp/data/train-images-idx3-ubyte.gz\n",
      "Extracting /tmp/data/train-labels-idx1-ubyte.gz\n",
      "Extracting /tmp/data/t10k-images-idx3-ubyte.gz\n",
      "Extracting /tmp/data/t10k-labels-idx1-ubyte.gz\n"
     ]
    }
   ],
   "source": [
    "%matplotlib inline\n",
    "#Import the MNIST Data\n",
    "mnist = input_data.read_data_sets(\"/tmp/data/\", one_hot = True)"
   ]
  },
  {
   "cell_type": "code",
   "execution_count": 23,
   "metadata": {
    "collapsed": true
   },
   "outputs": [],
   "source": [
    "# Create Placeholders\n",
    "tf.reset_default_graph()\n",
    "X = tf.placeholder(dtype=tf.float32, shape=[None, 784], name='X')\n",
    "Y = tf.placeholder(dtype=tf.float32, shape=[None, 10], name='Y')"
   ]
  },
  {
   "cell_type": "code",
   "execution_count": 24,
   "metadata": {
    "collapsed": true
   },
   "outputs": [],
   "source": [
    "def neural_network_model(data):\n",
    "    \n",
    "    #Define the parameters for a 3 layer neural network.\n",
    "    #1st layer will have 256 neurons\n",
    "    #2nd layer will have 256 neurons\n",
    "    #3rd layer i.e the output layer will have 10 neurons equal to the output class\n",
    "    W1 = tf.get_variable(\"W1\", [784, 256], initializer=tf.contrib.layers.xavier_initializer(seed = 1))\n",
    "    b1 = tf.get_variable(\"b1\", [256], initializer = tf.zeros_initializer())\n",
    "    W2 = tf.get_variable(\"W2\", [256, 256], initializer=tf.contrib.layers.xavier_initializer(seed = 1))\n",
    "    b2 = tf.get_variable(\"b2\", [256], initializer = tf.zeros_initializer())\n",
    "    W3 = tf.get_variable(\"W3\", [256, 10], initializer=tf.contrib.layers.xavier_initializer(seed = 1))\n",
    "    b3 = tf.get_variable(\"b3\", [10], initializer = tf.zeros_initializer())\n",
    "    \n",
    "    Z1 = tf.add(tf.matmul(data, W1), b1)\n",
    "    A1 = tf.nn.relu(Z1)\n",
    "    Z2 = tf.add(tf.matmul(A1, W2), b2)\n",
    "    A2 = tf.nn.relu(Z2)\n",
    "    Z3 = tf.add(tf.matmul(A2, W3), b3)\n",
    "    \n",
    "    return Z3"
   ]
  },
  {
   "cell_type": "code",
   "execution_count": 25,
   "metadata": {
    "collapsed": true
   },
   "outputs": [],
   "source": [
    "def train_neural_network(x):\n",
    "    #Train the neural network with a batch size of 100 and 10 epochs. We will use the Adam Optimizer with the hyperparameters\n",
    "    # being the default. Also plot the cost function\n",
    "    \n",
    "    no_of_epochs = 10\n",
    "    batch_size = 100\n",
    "    costs = []\n",
    "    m = mnist.train.num_examples\n",
    "    predictions = neural_network_model(x)\n",
    "    \n",
    "    cost = tf.reduce_mean(tf.nn.softmax_cross_entropy_with_logits(logits=predictions, labels=Y))\n",
    "    optimizer = tf.train.AdamOptimizer().minimize(cost)\n",
    "    \n",
    "    with tf.Session() as sess:\n",
    "        \n",
    "        sess.run(tf.global_variables_initializer())\n",
    "        \n",
    "        for epoch in range(no_of_epochs):\n",
    "            num_of_minibatches = int(m / batch_size)\n",
    "            epoch_loss = 0\n",
    "            \n",
    "            for _ in range(int(mnist.train.num_examples/batch_size)):\n",
    "                epoch_x, epoch_y = mnist.train.next_batch(batch_size)\n",
    "                _, minibatch_cost = sess.run([optimizer, cost], feed_dict={X:epoch_x, Y:epoch_y})\n",
    "                epoch_loss += minibatch_cost / num_of_minibatches\n",
    "                \n",
    "            costs.append(epoch_loss)\n",
    "  \n",
    "            print('Epoch ', epoch, 'completed out of ',no_of_epochs,'loss: ',epoch_loss)\n",
    "            \n",
    "        #Plot the cost function\n",
    "        plt.plot(np.squeeze(costs))\n",
    "        plt.xlabel('Iterations')\n",
    "        plt.ylabel('Cost')\n",
    "        plt.show()\n",
    "        \n",
    "        #calculate the accuracy on MNIST test images\n",
    "        correct = tf.equal(tf.argmax(predictions, 1), tf.argmax(Y, 1))\n",
    "        accuracy = tf.reduce_mean(tf.cast(correct, 'float'))\n",
    "        print('Accuracy:',accuracy.eval({x:mnist.test.images, Y:mnist.test.labels}))\n",
    "\n",
    "          \n",
    "        "
   ]
  },
  {
   "cell_type": "code",
   "execution_count": 26,
   "metadata": {},
   "outputs": [
    {
     "name": "stdout",
     "output_type": "stream",
     "text": [
      "Epoch  0 completed out of  10 loss:  0.257905237333\n",
      "Epoch  1 completed out of  10 loss:  0.0977903562361\n",
      "Epoch  2 completed out of  10 loss:  0.0644948330251\n",
      "Epoch  3 completed out of  10 loss:  0.0449996295679\n",
      "Epoch  4 completed out of  10 loss:  0.0316340510505\n",
      "Epoch  5 completed out of  10 loss:  0.0268713466735\n",
      "Epoch  6 completed out of  10 loss:  0.021303895843\n",
      "Epoch  7 completed out of  10 loss:  0.0191576376072\n",
      "Epoch  8 completed out of  10 loss:  0.0152530432416\n",
      "Epoch  9 completed out of  10 loss:  0.012443127268\n"
     ]
    },
    {
     "data": {
      "image/png": "[encoded data removed]",
      "text/plain": [
       "<matplotlib.figure.Figure at 0x858a9f6a90>"
      ]
     },
     "metadata": {},
     "output_type": "display_data"
    },
    {
     "name": "stdout",
     "output_type": "stream",
     "text": [
      "Accuracy: 0.9754\n"
     ]
    }
   ],
   "source": [
    "#Train the network and calculate the accuracy on the test images.\n",
    "train_neural_network(X)"
   ]
  },
  {
   "cell_type": "code",
   "execution_count": null,
   "metadata": {
    "collapsed": true
   },
   "outputs": [],
   "source": []
  }
 ],
 "metadata": {
  "kernelspec": {
   "display_name": "Python 3",
   "language": "python",
   "name": "python3"
  },
  "language_info": {
   "codemirror_mode": {
    "name": "ipython",
    "version": 3
   },
   "file_extension": ".py",
   "mimetype": "text/x-python",
   "name": "python",
   "nbconvert_exporter": "python",
   "pygments_lexer": "ipython3",
   "version": "3.6.1"
  }
 },
 "nbformat": 4,
 "nbformat_minor": 2
}
